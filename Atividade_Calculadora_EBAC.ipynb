{
  "nbformat": 4,
  "nbformat_minor": 0,
  "metadata": {
    "colab": {
      "provenance": []
    },
    "kernelspec": {
      "name": "python3",
      "display_name": "Python 3"
    },
    "language_info": {
      "name": "python"
    }
  },
  "cells": [
    {
      "cell_type": "code",
      "execution_count": null,
      "metadata": {
        "id": "q-wqcoIMj3k5"
      },
      "outputs": [],
      "source": [
        "valor = input(\"Digite um número aqui:\")\n",
        "print(valor)\n",
        "\n",
        "outro_valor = input(\"Agora digite outro número: \")\n",
        "print(outro_valor)\n",
        "\n",
        "valor_convert = int(valor)\n",
        "outro_valor_convert = int(outro_valor)\n",
        "\n",
        "\n",
        "soma = valor_convert + outro_valor_convert\n",
        "\n",
        "subtração = valor_convert - outro_valor_convert\n",
        "\n",
        "multiplicação = valor_convert * outro_valor_convert\n",
        "\n",
        "divisão = valor_convert / outro_valor_convert\n",
        "\n",
        "escolha = input(\" Escolha que tipo de operação matematica você quer fazer com esses números: soma, multiplicação, subtração ou divisão \")\n",
        "if escolha == \"soma\":\n",
        "  print(\"você escolheu a soma, então se sa gente somar esses dois números vai dará: \", soma)\n",
        "\n",
        "elif escolha == \"subtração\":\n",
        "  print(\"Você escolheu subtração, se a gente subtrair esses dois números vai dará: \", subtração)\n",
        "\n",
        "elif escolha == \"multiplicação\":\n",
        "   print(\"Você escolheu multiplicação, se a gente multiplicar esses dois números dará \", multiplicação)\n",
        "\n",
        "elif escolha == \"divisão\":\n",
        "   print(\"Você escolheu divisão, se a gente dividir esses dois números dará: \", divisão)\n",
        "\n",
        "else:\n",
        "    print(\"Você não escolheu nenhuma das opções\")\n"
      ]
    }
  ]
}